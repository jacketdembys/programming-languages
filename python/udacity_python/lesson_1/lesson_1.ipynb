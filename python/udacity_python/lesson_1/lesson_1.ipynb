{
 "cells": [
  {
   "cell_type": "markdown",
   "metadata": {},
   "source": [
    "### Lesson 1:\n",
    "These are my personal notes on the materials covered and learned in this lesson:\n",
    "    1. Arithmetic Operators\n",
    "    2. Variables and Assignment Operators\n",
    "    3. Integers and Floats\n",
    "    4. Booleans, Comparison Operators, and Logical Operators\n",
    "    5. Strings\n",
    "    6. Type and Type Conversion\n",
    "    7. String Methods\n",
    "\n",
    "\n",
    "### Ressources\n",
    "* More on python operators (arithmetic, asssignment, comparison, logical, etc.) can be found <a href=\"https://www.programiz.com/python-programming/operators\">here</a>.<br>\n",
    "* More on python developers' guidelines PEP 8 can be found <a href=\"https://www.python.org/dev/peps/pep-0008/\">here</a>.<br>\n",
    "* More on how to check PEP 8 guidelines in a linux environment can be found <a href=\"https://atom.io/packages/linter-python-pep8\">here</a>.<br>\n",
    "* More on the Errors and Exceptions in python can be found <a href=\"https://docs.python.org/3/tutorial/errors.html\">here</a>.<br>\n",
    "* More on string methods can be found here: <a href=\"https://www.programiz.com/python-programming/methods/string\">here</a>, <a href=\"https://docs.python.org/3.6/library/string.html#format-string-syntax\">here</a> and <a href=\"https://docs.python.org/3/library/stdtypes.html#string-methods\">here</a>.<br> "
   ]
  },
  {
   "cell_type": "markdown",
   "metadata": {},
   "source": [
    "### Quiz: Arithmetic Operators"
   ]
  },
  {
   "cell_type": "code",
   "execution_count": 27,
   "metadata": {},
   "outputs": [
    {
     "name": "stdout",
     "output_type": "stream",
     "text": [
      "The new reservoir volume is:  447627500.0\n"
     ]
    }
   ],
   "source": [
    "### Examples using the operators\n",
    "\n",
    "# The current volume of a water reservoir (in cubic metres)\n",
    "reservoir_volume = 4.445e8\n",
    "# The amount of rainfall from a storm (in cubic metres)\n",
    "rainfall = 5e6\n",
    "\n",
    "# decrease the rainfall variable by 10% to account for runoff\n",
    "rainfall *= 0.9\n",
    "\n",
    "# add the rainfall variable to the reservoir_volume variable\n",
    "reservoir_volume += rainfall\n",
    "\n",
    "# increase reservoir_volume by 5% to account for stormwater that flows\n",
    "# into the reservoir in the days following the storm\n",
    "reservoir_volume += 0.05*reservoir_volume\n",
    "\n",
    "# decrease reservoir_volume by 5% to account for evaporation\n",
    "reservoir_volume -= 0.05*reservoir_volume\n",
    "\n",
    "# subtract 2.5e5 cubic metres from reservoir_volume to account for water\n",
    "# that's piped to arid regions.\n",
    "reservoir_volume -= 2.5e5\n",
    "\n",
    "# print the new value of the reservoir_volume variable\n",
    "print(\"The new reservoir volume is: \",reservoir_volume)"
   ]
  },
  {
   "cell_type": "markdown",
   "metadata": {},
   "source": [
    "### Quiz: Strings"
   ]
  },
  {
   "cell_type": "code",
   "execution_count": 28,
   "metadata": {},
   "outputs": [
    {
     "name": "stdout",
     "output_type": "stream",
     "text": [
      "Kinari accessed the site http://petshop.com/pets/mammals/cats at 04:50.\n"
     ]
    }
   ],
   "source": [
    "username = \"Kinari\"\n",
    "timestamp = \"04:50\"\n",
    "url = \"http://petshop.com/pets/mammals/cats\"\n",
    "\n",
    "# TODO: print a log message using the variables above.\n",
    "# The message should have the same format as this one:\n",
    "# \"Yogesh accessed the site http://petshop.com/pets/reptiles/pythons at 16:20.\"\n",
    "message = username + \" accessed the site \" + url + \" at \" + timestamp + \".\"\n",
    "print(message)"
   ]
  },
  {
   "cell_type": "code",
   "execution_count": 29,
   "metadata": {},
   "outputs": [
    {
     "name": "stdout",
     "output_type": "stream",
     "text": [
      "True\n"
     ]
    }
   ],
   "source": [
    "given_name = \"William\"\n",
    "middle_names = \"Bradley\"\n",
    "family_name = \"Pitt\"\n",
    "\n",
    "name_length = len (given_name + \" \" + middle_names + \" \" + family_name)\n",
    "\n",
    "# Now we check to make sure that the name fits within the driving license character limit\n",
    "# Nothing you need to do here\n",
    "driving_license_character_limit = 28\n",
    "print(name_length <= driving_license_character_limit)"
   ]
  },
  {
   "cell_type": "markdown",
   "metadata": {},
   "source": [
    "### Quiz: Type and Type Conversion"
   ]
  },
  {
   "cell_type": "code",
   "execution_count": 30,
   "metadata": {},
   "outputs": [
    {
     "name": "stdout",
     "output_type": "stream",
     "text": [
      "This week's total sales: 529\n"
     ]
    }
   ],
   "source": [
    "mon_sales = \"121\"\n",
    "tues_sales = \"105\"\n",
    "wed_sales = \"110\"\n",
    "thurs_sales = \"98\"\n",
    "fri_sales = \"95\"\n",
    "\n",
    "#TODO: Print a string with this format: This week's total sales: xxx\n",
    "# You will probably need to write some lines of code before the print statement.\n",
    "total_sales = int(mon_sales) + int(tues_sales) + int(wed_sales) + int(thurs_sales) + int(fri_sales)\n",
    "message = \"This week's total sales: \" + str(total_sales)\n",
    "print(message)"
   ]
  },
  {
   "cell_type": "markdown",
   "metadata": {},
   "source": [
    "### Quiz: String Methods"
   ]
  },
  {
   "cell_type": "code",
   "execution_count": 31,
   "metadata": {},
   "outputs": [
    {
     "name": "stdout",
     "output_type": "stream",
     "text": [
      "Jacket demby's\n",
      "jacket demby's\n",
      "     jacket demby's     \n",
      "2\n",
      "4\n",
      "jacket demby's is 27 years old.\n",
      "['jacket', \"demby's\"]\n",
      "[\"jacket demby's\"]\n",
      "['jacket demby', 's']\n",
      "[\"jacket demby's\"]\n",
      "8\n"
     ]
    }
   ],
   "source": [
    "# Here trying the complete  list of strinf methods\n",
    "my_string = \"jacket demby\\'s\"\n",
    "\n",
    "print(my_string.capitalize())\n",
    "print(my_string.lower())\n",
    "print(my_string.center(24))           \n",
    "print(my_string.count(\"e\"))     # Returns the number of occurences of a substring in a string\n",
    "print(my_string.find(\"e\"))      # finds a substring position in a big string\n",
    "print(my_string + \" is {} years old.\".format(27))\n",
    "print(my_string.split())\n",
    "print(my_string.split(' ', 0))\n",
    "print(my_string.split(\"'\"))\n",
    "print(my_string.split(None, 0))\n",
    "print(my_string.rfind('e'))"
   ]
  }
 ],
 "metadata": {
  "kernelspec": {
   "display_name": "Python 3",
   "language": "python",
   "name": "python3"
  },
  "language_info": {
   "codemirror_mode": {
    "name": "ipython",
    "version": 3
   },
   "file_extension": ".py",
   "mimetype": "text/x-python",
   "name": "python",
   "nbconvert_exporter": "python",
   "pygments_lexer": "ipython3",
   "version": "3.5.2"
  }
 },
 "nbformat": 4,
 "nbformat_minor": 2
}
